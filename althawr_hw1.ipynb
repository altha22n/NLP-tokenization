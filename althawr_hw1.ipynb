{
 "cells": [
  {
   "cell_type": "code",
   "execution_count": 31,
   "metadata": {},
   "outputs": [],
   "source": [
    "import math\n",
    "import os\n",
    "\n",
    "###### DO NOT MODIFY THIS FUNCTION #####\n",
    "def tokenize_doc(doc):\n",
    "    \"\"\"\n",
    "    Converts a document (as a string) into a list of tokens, in lowercase.\n",
    "    doc - a string representing a document.\n",
    "    return a list of word tokens.\n",
    "    \"\"\"\n",
    "    tokens = doc.split() # default value for split() is whitespace\n",
    "    lowered_tokens = list(map(lambda t: t.lower(), tokens))\n",
    "    return(lowered_tokens)\n",
    "###### END FUNCTION #####\n",
    "\n",
    "def get_word_counts(tokens):\n",
    "    \"\"\"\n",
    "    Takes a list of word tokens and returns a dictionary mapping each\n",
    "    word to the number of times it appears in the token list.\n",
    "    Read Automate the Boring Stuff... Ch. 5 (beginning through 'the get() method')\n",
    "    if you have not used dictionaries in python before.\n",
    "    \"\"\"\n",
    "    word_count_dict = {} #create an empty dictionary\n",
    "    \"\"\"\n",
    "    loops through the tokens \n",
    "    if the word isn't in the dictionary(it's the first instance of the word to be added),\n",
    "    we add the count to the word as 1\n",
    "    and if it's already there, we increment 1 to the count\n",
    "    our dictionary has a key-pair value, where the key is the word and the value is the count\n",
    "    \"\"\"\n",
    "    \n",
    "    for token in tokens:\n",
    "        if token in word_count_dict:\n",
    "            word_count_dict[token] += 1\n",
    "        else:\n",
    "            word_count_dict[token] = 1\n",
    "            \n",
    "    return word_count_dict\n",
    "\n",
    "\n",
    "def num_types(word_counts):\n",
    "    '''\n",
    "    return a count of all word types in the corpus\n",
    "    using information from word_counts\n",
    "    '''\n",
    "    #we find all the single occurences of word types and add them to the count\n",
    "    count = 0\n",
    "    for word in word_counts:\n",
    "        if word_counts[word] == 1:\n",
    "            count+=1\n",
    "    return count\n",
    "    \n",
    "\n",
    "\n",
    "def num_tokens(word_counts):\n",
    "    '''\n",
    "    return a count of all word tokens in the corpus\n",
    "    using *only* information from word_counts\n",
    "    '''\n",
    "    # we add all the values (count of tokens)\n",
    "    count = 0\n",
    "    for word in word_counts:\n",
    "        count+=word_counts[word]\n",
    "        \n",
    "    return count\n",
    "    "
   ]
  },
  {
   "cell_type": "code",
   "execution_count": 32,
   "metadata": {},
   "outputs": [],
   "source": [
    "tokens = tokenize_doc(open('Austen-Emma.txt').read())"
   ]
  },
  {
   "cell_type": "code",
   "execution_count": 33,
   "metadata": {},
   "outputs": [
    {
     "name": "stdout",
     "output_type": "stream",
     "text": [
      "5095\n"
     ]
    }
   ],
   "source": [
    "word_counts = get_word_counts(tokens)\n",
    "print(word_counts['the'])\n",
    "# this assertion should be true (throw no exception) for Austen-Emma.txt\n",
    "# after defining get_word_counts, uncomment the line below to check your work.\n",
    "assert word_counts['the'] == 5095 "
   ]
  },
  {
   "cell_type": "code",
   "execution_count": 34,
   "metadata": {},
   "outputs": [
    {
     "name": "stdout",
     "output_type": "stream",
     "text": [
      "there are 10320 word types in the corpus\n",
      "there are 157443 word tokens in the corpus\n"
     ]
    }
   ],
   "source": [
    "# in your write-up, provide the number of word types and word tokens for Austen-Emma.txt\n",
    "# the values should not be None, after you define the functions above!\n",
    "print(f'there are {num_types(word_counts)} word types in the corpus')\n",
    "print(f'there are {num_tokens(word_counts)} word tokens in the corpus')"
   ]
  },
  {
   "cell_type": "code",
   "execution_count": 40,
   "metadata": {},
   "outputs": [
    {
     "name": "stdout",
     "output_type": "stream",
     "text": [
      "157443\n",
      "157443\n"
     ]
    }
   ],
   "source": [
    "# write an assert statement to check your answer for number of word tokens by comparing \n",
    "# num_word_tokens(word_counts) to the length of the list 'tokens' from the second cell in this notebook.\n",
    "# reference: 'Assertions' section in Automate the Boring Stuff Ch. 10\n",
    "print(num_tokens(word_counts))\n",
    "print(len(tokens))\n",
    "assert num_tokens(word_counts) == len(tokens)"
   ]
  },
  {
   "cell_type": "code",
   "execution_count": null,
   "metadata": {},
   "outputs": [],
   "source": []
  }
 ],
 "metadata": {
  "kernelspec": {
   "display_name": "Python 3",
   "language": "python",
   "name": "python3"
  },
  "language_info": {
   "codemirror_mode": {
    "name": "ipython",
    "version": 3
   },
   "file_extension": ".py",
   "mimetype": "text/x-python",
   "name": "python",
   "nbconvert_exporter": "python",
   "pygments_lexer": "ipython3",
   "version": "3.6.5"
  }
 },
 "nbformat": 4,
 "nbformat_minor": 2
}
